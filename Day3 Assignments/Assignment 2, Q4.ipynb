{
 "cells": [
  {
   "cell_type": "markdown",
   "metadata": {},
   "source": [
    "# Question 4"
   ]
  },
  {
   "cell_type": "markdown",
   "metadata": {},
   "source": [
    "### Write a program to Print X Prime Numbers using While Loop starting from 0, and take the Input of X from the user"
   ]
  },
  {
   "cell_type": "code",
   "execution_count": 17,
   "metadata": {
    "scrolled": false
   },
   "outputs": [
    {
     "name": "stdout",
     "output_type": "stream",
     "text": [
      "Enter the number: 100\n",
      "2\n",
      "3\n",
      "5\n",
      "7\n",
      "11\n",
      "13\n",
      "17\n",
      "19\n",
      "23\n",
      "29\n",
      "31\n",
      "37\n",
      "41\n",
      "43\n",
      "47\n",
      "53\n",
      "59\n",
      "61\n",
      "67\n",
      "71\n",
      "73\n",
      "79\n",
      "83\n",
      "89\n",
      "97\n"
     ]
    }
   ],
   "source": [
    "# prime no's using while loop\n",
    "import math\n",
    "no = int(input(\"Enter the number: \"))\n",
    "print (2)\n",
    "y=3\n",
    "while y <= no:\n",
    "    i = 2\n",
    "    count = 0\n",
    "    while i <= round(math.sqrt(y)):\n",
    "        if y%i == 0:\n",
    "            i = i + 1\n",
    "            count = 1\n",
    "            break\n",
    "        i = i + 1\n",
    "    if count == 0:\n",
    "        print (y)\n",
    "    y = y + 1"
   ]
  }
 ],
 "metadata": {
  "kernelspec": {
   "display_name": "Python 3",
   "language": "python",
   "name": "python3"
  }
 },
 "nbformat": 4,
 "nbformat_minor": 4
}

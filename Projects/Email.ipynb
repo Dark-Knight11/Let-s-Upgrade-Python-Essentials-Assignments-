{
 "cells": [
  {
   "cell_type": "markdown",
   "metadata": {},
   "source": [
    "# Emails"
   ]
  },
  {
   "cell_type": "markdown",
   "metadata": {},
   "source": [
    "### Sending emails using python script"
   ]
  },
  {
   "cell_type": "code",
   "execution_count": 1,
   "metadata": {},
   "outputs": [
    {
     "name": "stdout",
     "output_type": "stream",
     "text": [
      "Collecting emails\n",
      "  Downloading emails-0.6-py2.py3-none-any.whl (56 kB)\n",
      "Requirement already satisfied: python-dateutil in e:\\tools\\python\\lib\\site-packages (from emails) (2.8.1)\n",
      "Requirement already satisfied: chardet in e:\\tools\\python\\lib\\site-packages (from emails) (3.0.4)\n",
      "Collecting cssutils\n",
      "  Downloading cssutils-1.0.2-py3-none-any.whl (406 kB)\n",
      "Requirement already satisfied: requests in e:\\tools\\python\\lib\\site-packages (from emails) (2.24.0)\n",
      "Requirement already satisfied: lxml in e:\\tools\\python\\lib\\site-packages (from emails) (4.6.1)\n",
      "Collecting premailer\n",
      "  Downloading premailer-3.7.0-py2.py3-none-any.whl (18 kB)\n",
      "Requirement already satisfied: six>=1.5 in e:\\tools\\python\\lib\\site-packages (from python-dateutil->emails) (1.15.0)\n",
      "Requirement already satisfied: idna<3,>=2.5 in e:\\tools\\python\\lib\\site-packages (from requests->emails) (2.10)\n",
      "Requirement already satisfied: urllib3!=1.25.0,!=1.25.1,<1.26,>=1.21.1 in e:\\tools\\python\\lib\\site-packages (from requests->emails) (1.25.11)\n",
      "Requirement already satisfied: certifi>=2017.4.17 in e:\\tools\\python\\lib\\site-packages (from requests->emails) (2020.6.20)\n",
      "Collecting cachetools\n",
      "  Downloading cachetools-4.2.0-py3-none-any.whl (12 kB)\n",
      "Collecting cssselect\n",
      "  Downloading cssselect-1.1.0-py2.py3-none-any.whl (16 kB)\n",
      "Installing collected packages: cssutils, cachetools, cssselect, premailer, emails\n",
      "Successfully installed cachetools-4.2.0 cssselect-1.1.0 cssutils-1.0.2 emails-0.6 premailer-3.7.0\n"
     ]
    }
   ],
   "source": [
    "!pip install emails"
   ]
  },
  {
   "cell_type": "code",
   "execution_count": 12,
   "metadata": {},
   "outputs": [],
   "source": [
    "# imported emails module\n",
    "import emails\n",
    "# function to compose mail\n",
    "def composeMail():\n",
    "    sub = input(\"Enter the subject: \") # input box for subject\n",
    "    html_msg = input(\"Enter your message: \") # input box for message\n",
    "    message = emails.html(\n",
    "                              html= html_msg,\n",
    "                              subject= sub,\n",
    "                              mail_from= ('HyperNova', 'dingding@gmail.com')\n",
    "                         )\n",
    "    return message\n",
    "# function to send mail\n",
    "def sendMail():\n",
    "    msg = composeMail() # gets the input message from user \n",
    "    recipient = input(\"To whom do you want to send mail? \") # input box for recipient\n",
    "    my_email = msg.send(to = recipient, \n",
    "        smtp={\n",
    "                'host': 'smtp.gmail.com', # gmail smtp server\n",
    "                'timeout': 5, \n",
    "                'port': 587, # gmails TLS port\n",
    "                'user': '<mail_id>', # account from which email is sent\n",
    "                'password': '<password>', # accounts password\n",
    "                'tls': True # set TLS on true so as to encrypt the traffic\n",
    "            })\n",
    "    # checks if email is sent or not\n",
    "    if my_email.status_code == 250:\n",
    "        print (\"Email sent successfully\") # if status code is 250 then email is sent\n",
    "    else:\n",
    "        print (\"Email not sent try again letter\") # if code is not 250 email is not sent"
   ]
  },
  {
   "cell_type": "code",
   "execution_count": 14,
   "metadata": {},
   "outputs": [
    {
     "name": "stdout",
     "output_type": "stream",
     "text": [
      "Enter the subject: Death Note\n",
      "Enter your message: <p>Hi I&apos;m <strong><span style='color: rgb(255, 0, 0); font-family: \"Lucida Console\", Monaco, monospace; font-size: 28px; font-style: normal; font-variant-ligatures: normal; font-variant-caps: normal; font-weight: 400; letter-spacing: normal; orphans: 2; text-align: start; text-indent: 0px; text-transform: none; white-space: normal; widows: 2; word-spacing: 0px; -webkit-text-stroke-width: 0px; text-decoration-thickness: initial; text-decoration-style: initial; text-decoration-color: initial; float: none; display: inline !important;'><span style=\"background-color: rgb(0, 0, 0);\">HyperNova</span></span></strong><span style='color: rgb(0, 0, 0); font-family: \"Times New Roman\"; font-size: medium; font-style: normal; font-variant-ligatures: normal; font-variant-caps: normal; font-weight: 400; letter-spacing: normal; orphans: 2; text-align: start; text-indent: 0px; text-transform: none; white-space: normal; widows: 2; word-spacing: 0px; -webkit-text-stroke-width: 0px; text-decoration-thickness: initial; text-decoration-style: initial; text-decoration-color: initial; display: inline !important; float: none;'>,</span></p> <p>I&apos;m the owner of your <span style=\"font-size: 28px;\"><strong><span style=\"background-color: rgb(184, 49, 47);\">Death</span></strong></span> so be prepared for it</p> <p>I may come any moment&nbsp;</p>\n",
      "To whom do you want to send mail? vedantbhamare11@gmail.com\n",
      "Email sent successfully\n"
     ]
    }
   ],
   "source": [
    "sendMail()"
   ]
  }
 ],
 "metadata": {
  "kernelspec": {
   "display_name": "Python 3",
   "language": "python",
   "name": "python3"
  },
  "language_info": {
   "codemirror_mode": {
    "name": "ipython",
    "version": 3
   },
   "file_extension": ".py",
   "mimetype": "text/x-python",
   "name": "python",
   "nbconvert_exporter": "python",
   "pygments_lexer": "ipython3",
   "version": "3.8.5"
  }
 },
 "nbformat": 4,
 "nbformat_minor": 4
}

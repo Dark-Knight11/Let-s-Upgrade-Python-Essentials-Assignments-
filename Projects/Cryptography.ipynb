{
 "cells": [
  {
   "cell_type": "markdown",
   "metadata": {},
   "source": [
    "# Cryptography Project"
   ]
  },
  {
   "cell_type": "markdown",
   "metadata": {},
   "source": [
    "### Encryping and Decrypting messages using cryptography library"
   ]
  },
  {
   "cell_type": "code",
   "execution_count": 3,
   "metadata": {},
   "outputs": [
    {
     "name": "stdout",
     "output_type": "stream",
     "text": [
      "Requirement already satisfied: cryptography in e:\\tools\\python\\lib\\site-packages (3.1.1)\n",
      "Requirement already satisfied: cffi!=1.11.3,>=1.8 in e:\\tools\\python\\lib\\site-packages (from cryptography) (1.14.3)\n",
      "Requirement already satisfied: six>=1.4.1 in e:\\tools\\python\\lib\\site-packages (from cryptography) (1.15.0)\n",
      "Requirement already satisfied: pycparser in e:\\tools\\python\\lib\\site-packages (from cffi!=1.11.3,>=1.8->cryptography) (2.20)\n"
     ]
    }
   ],
   "source": [
    "!pip install cryptography"
   ]
  },
  {
   "cell_type": "code",
   "execution_count": 12,
   "metadata": {},
   "outputs": [],
   "source": [
    "# imported Fernet from cryptography package \n",
    "from cryptography.fernet import Fernet \n",
    "import getpass \n",
    "\n",
    "# Function to generate key\n",
    "def generateKey():\n",
    "    key = Fernet.generate_key()\n",
    "    # stores key in the file, wb so as to write in bytes format in file\n",
    "    keyFile = open(\"KeyFile.txt\", \"wb\") \n",
    "    keyFile.write(key)\n",
    "    keyFile.close()\n",
    "    print (\"We have generated a file named KeyFile.txt your key is saved in there keep it secure\")\n",
    "\n",
    "# Function to read key\n",
    "def readKey():\n",
    "    # takes input for key and hides it and encodes it in bytes data\n",
    "    myKey = bytes(getpass.getpass(prompt=\"Enter your key: \"), encoding=\"UTF-8\") \n",
    "    return myKey\n",
    "\n",
    "# Function to encrypt message \n",
    "def encryptMsg():\n",
    "    # takes input for message \n",
    "    msg = bytes(input(\"Enter your message: \"), encoding=\"UTF-8\")\n",
    "    key = readKey() # reads key\n",
    "    token = Fernet(key) # generates token\n",
    "    enc_msg = token.encrypt(msg) # encrypt msg\n",
    "    return (enc_msg.decode(\"UTF-8\")) # returns encoded message .decode strips the b'' tag\n",
    "\n",
    "# Function to Decode msg\n",
    "def decryptMsg():\n",
    "    encodedMsg = bytes(input(\"Enter the encoded msg: \"), encoding=\"UTF-8\")\n",
    "    key = readKey() # reads key\n",
    "    token = Fernet(key) # generates token\n",
    "    dec_msg = token.decrypt(encodedMsg) # decrypts msg\n",
    "    return (dec_msg.decode(\"UTF-8\")) # returns decode msg .decode strips the b'' tag\n",
    "\n",
    "# main code where user Interatcion is done\n",
    "def mainCode():\n",
    "    print (\"Do you want to encrypt or decrypt Message?\")\n",
    "    print (\"1. EncryptMsg\")\n",
    "    print (\"2. DecryptMsg\")\n",
    "    ans = int(input(\"Enter your option: \"))\n",
    "    if ans == 1:\n",
    "        print (\"Here's your encrypted message: \", encryptMsg())\n",
    "    elif ans == 2:\n",
    "        print (\"Here's your decoded message: \", decryptMsg())\n",
    "    else:\n",
    "        print (\"Enter Valid Option\")\n",
    "\n",
    "# checks if user is signing in first time or not\n",
    "# final code which needs to be called \n",
    "def cryptIt():\n",
    "    print (\"If you are new here then you will have to generate your key otherwise keep your key ready and follow next steps\")\n",
    "    print (\"1. I'm new here\")\n",
    "    print (\"2. I have my key\")\n",
    "    choice = int(input(\"Enter your answer: \"))\n",
    "    # generates key and then runs the program\n",
    "    if choice == 1:\n",
    "        generateKey()\n",
    "        mainCode()\n",
    "    # doesn't generate new key\n",
    "    elif choice == 2:\n",
    "        mainCode()\n",
    "    else:\n",
    "        print (\"Enter Valid answer\")"
   ]
  },
  {
   "cell_type": "code",
   "execution_count": 10,
   "metadata": {},
   "outputs": [
    {
     "name": "stdout",
     "output_type": "stream",
     "text": [
      "If you are new here then you will have to generate your key otherwise keep your key ready and follow next steps\n",
      "1. I'm new here\n",
      "2. I have my key\n",
      "Enter your answer: 1\n",
      "We have generated a file named KeyFile.txt your key is saved in there keep it secure\n",
      "Do you want to encrypt or decrypt Message?\n",
      "1. EncryptMsg\n",
      "2. DecryptMsg\n",
      "Enter your option: 1\n",
      "Enter your message: Let's Upgrade\n",
      "Enter your key: ········\n",
      "Here's your encrypted message:  gAAAAABf2otuLM7jTO4EFrZ8sGeYVwyxFVa7b5NmvklTUw1KVkaOf9u4X1fJ5eplNFOu1K16BltJ0r0B6VRObzsfREtTnDOqmQ==\n"
     ]
    }
   ],
   "source": [
    "cryptIt()"
   ]
  },
  {
   "cell_type": "code",
   "execution_count": 11,
   "metadata": {},
   "outputs": [
    {
     "name": "stdout",
     "output_type": "stream",
     "text": [
      "If you are new here then you will have to generate your key otherwise keep your key ready and follow next steps\n",
      "1. I'm new here\n",
      "2. I have my key\n",
      "Enter your answer: 2\n",
      "Do you want to encrypt or decrypt Message?\n",
      "1. EncryptMsg\n",
      "2. DecryptMsg\n",
      "Enter your option: 2\n",
      "Enter the encoded msg: gAAAAABf2otuLM7jTO4EFrZ8sGeYVwyxFVa7b5NmvklTUw1KVkaOf9u4X1fJ5eplNFOu1K16BltJ0r0B6VRObzsfREtTnDOqmQ==\n",
      "Enter your key: ········\n",
      "Here's your decoded message:  Let's Upgrade\n"
     ]
    }
   ],
   "source": [
    "cryptIt()"
   ]
  }
 ],
 "metadata": {
  "kernelspec": {
   "display_name": "Python 3",
   "language": "python",
   "name": "python3"
  },
  "language_info": {
   "codemirror_mode": {
    "name": "ipython",
    "version": 3
   },
   "file_extension": ".py",
   "mimetype": "text/x-python",
   "name": "python",
   "nbconvert_exporter": "python",
   "pygments_lexer": "ipython3",
   "version": "3.8.5"
  }
 },
 "nbformat": 4,
 "nbformat_minor": 4
}

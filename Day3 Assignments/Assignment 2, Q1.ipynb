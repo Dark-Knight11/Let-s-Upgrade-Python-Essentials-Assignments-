{
 "cells": [
  {
   "cell_type": "markdown",
   "metadata": {},
   "source": [
    "# Question 1"
   ]
  },
  {
   "cell_type": "markdown",
   "metadata": {},
   "source": [
    "### Use IF ELSE and ELIF to write a program in python for your Report "
   ]
  },
  {
   "cell_type": "code",
   "execution_count": 20,
   "metadata": {
    "scrolled": true
   },
   "outputs": [
    {
     "name": "stdout",
     "output_type": "stream",
     "text": [
      "Enter your marks: 99\n",
      "Your Grade: A\n"
     ]
    }
   ],
   "source": [
    "# Report Card\n",
    "marks = int(input(\"Enter your marks: \"))\n",
    "if marks > 90 and marks <= 100:\n",
    "    print (\"Your Grade: A\")\n",
    "elif marks > 80 and marks <= 90:\n",
    "    print (\"Your Grade: B\")\n",
    "elif marks > 70 and marks <= 80:\n",
    "    print (\"Your Grade: C\")\n",
    "elif marks > 60 and marks <= 70:\n",
    "    print (\"Your Grade: D\")\n",
    "elif marks > 50 and marks <= 60:\n",
    "    print (\"Your Grade: E\")\n",
    "elif marks >= 35 and marks <= 50:\n",
    "    print (\"Your Grade: F\")\n",
    "elif marks >=0 and marks < 35:\n",
    "    print (\"You Failed the Exam\")\n",
    "else: \n",
    "    print (\"Enter marks out off 100\")"
   ]
  },
  {
   "cell_type": "code",
   "execution_count": 21,
   "metadata": {
    "scrolled": true
   },
   "outputs": [
    {
     "name": "stdout",
     "output_type": "stream",
     "text": [
      "Enter your marks: 84\n",
      "Your Grade: B\n"
     ]
    }
   ],
   "source": [
    "# Report Card\n",
    "marks = int(input(\"Enter your marks: \"))\n",
    "if marks > 90 and marks <= 100:\n",
    "    print (\"Your Grade: A\")\n",
    "elif marks > 80 and marks <= 90:\n",
    "    print (\"Your Grade: B\")\n",
    "elif marks > 70 and marks <= 80:\n",
    "    print (\"Your Grade: C\")\n",
    "elif marks > 60 and marks <= 70:\n",
    "    print (\"Your Grade: D\")\n",
    "elif marks > 50 and marks <= 60:\n",
    "    print (\"Your Grade: E\")\n",
    "elif marks >= 35 and marks <= 50:\n",
    "    print (\"Your Grade: F\")\n",
    "elif marks >=0 and marks < 35:\n",
    "    print (\"You Failed the Exam\")\n",
    "else: \n",
    "    print (\"Enter marks out off 100\")"
   ]
  },
  {
   "cell_type": "code",
   "execution_count": 22,
   "metadata": {},
   "outputs": [
    {
     "name": "stdout",
     "output_type": "stream",
     "text": [
      "Enter your marks: 80\n",
      "Your Grade: C\n"
     ]
    }
   ],
   "source": [
    "# Report Card\n",
    "marks = int(input(\"Enter your marks: \"))\n",
    "if marks > 90 and marks <= 100:\n",
    "    print (\"Your Grade: A\")\n",
    "elif marks > 80 and marks <= 90:\n",
    "    print (\"Your Grade: B\")\n",
    "elif marks > 70 and marks <= 80:\n",
    "    print (\"Your Grade: C\")\n",
    "elif marks > 60 and marks <= 70:\n",
    "    print (\"Your Grade: D\")\n",
    "elif marks > 50 and marks <= 60:\n",
    "    print (\"Your Grade: E\")\n",
    "elif marks >= 35 and marks <= 50:\n",
    "    print (\"Your Grade: F\")\n",
    "elif marks >=0 and marks < 35:\n",
    "    print (\"You Failed the Exam\")\n",
    "else: \n",
    "    print (\"Enter marks out off 100\")"
   ]
  },
  {
   "cell_type": "code",
   "execution_count": 23,
   "metadata": {},
   "outputs": [
    {
     "name": "stdout",
     "output_type": "stream",
     "text": [
      "Enter your marks: 65\n",
      "Your Grade: D\n"
     ]
    }
   ],
   "source": [
    "# Report Card\n",
    "marks = int(input(\"Enter your marks: \"))\n",
    "if marks > 90 and marks <= 100:\n",
    "    print (\"Your Grade: A\")\n",
    "elif marks > 80 and marks <= 90:\n",
    "    print (\"Your Grade: B\")\n",
    "elif marks > 70 and marks <= 80:\n",
    "    print (\"Your Grade: C\")\n",
    "elif marks > 60 and marks <= 70:\n",
    "    print (\"Your Grade: D\")\n",
    "elif marks > 50 and marks <= 60:\n",
    "    print (\"Your Grade: E\")\n",
    "elif marks >= 35 and marks <= 50:\n",
    "    print (\"Your Grade: F\")\n",
    "elif marks >=0 and marks < 35:\n",
    "    print (\"You Failed the Exam\")\n",
    "else: \n",
    "    print (\"Enter marks out off 100\")"
   ]
  },
  {
   "cell_type": "code",
   "execution_count": 24,
   "metadata": {},
   "outputs": [
    {
     "name": "stdout",
     "output_type": "stream",
     "text": [
      "Enter your marks: 52\n",
      "Your Grade: E\n"
     ]
    }
   ],
   "source": [
    "# Report Card\n",
    "marks = int(input(\"Enter your marks: \"))\n",
    "if marks > 90 and marks <= 100:\n",
    "    print (\"Your Grade: A\")\n",
    "elif marks > 80 and marks <= 90:\n",
    "    print (\"Your Grade: B\")\n",
    "elif marks > 70 and marks <= 80:\n",
    "    print (\"Your Grade: C\")\n",
    "elif marks > 60 and marks <= 70:\n",
    "    print (\"Your Grade: D\")\n",
    "elif marks > 50 and marks <= 60:\n",
    "    print (\"Your Grade: E\")\n",
    "elif marks >= 35 and marks <= 50:\n",
    "    print (\"Your Grade: F\")\n",
    "elif marks >=0 and marks < 35:\n",
    "    print (\"You Failed the Exam\")\n",
    "else: \n",
    "    print (\"Enter marks out off 100\")"
   ]
  },
  {
   "cell_type": "code",
   "execution_count": 25,
   "metadata": {},
   "outputs": [
    {
     "name": "stdout",
     "output_type": "stream",
     "text": [
      "Enter your marks: 35\n",
      "Your Grade: F\n"
     ]
    }
   ],
   "source": [
    "# Report Card\n",
    "marks = int(input(\"Enter your marks: \"))\n",
    "if marks > 90 and marks <= 100:\n",
    "    print (\"Your Grade: A\")\n",
    "elif marks > 80 and marks <= 90:\n",
    "    print (\"Your Grade: B\")\n",
    "elif marks > 70 and marks <= 80:\n",
    "    print (\"Your Grade: C\")\n",
    "elif marks > 60 and marks <= 70:\n",
    "    print (\"Your Grade: D\")\n",
    "elif marks > 50 and marks <= 60:\n",
    "    print (\"Your Grade: E\")\n",
    "elif marks >= 35 and marks <= 50:\n",
    "    print (\"Your Grade: F\")\n",
    "elif marks >=0 and marks < 35:\n",
    "    print (\"You Failed the Exam\")\n",
    "else: \n",
    "    print (\"Enter marks out off 100\")"
   ]
  },
  {
   "cell_type": "code",
   "execution_count": 26,
   "metadata": {},
   "outputs": [
    {
     "name": "stdout",
     "output_type": "stream",
     "text": [
      "Enter your marks: 20\n",
      "You Failed the Exam\n"
     ]
    }
   ],
   "source": [
    "# Report Card\n",
    "marks = int(input(\"Enter your marks: \"))\n",
    "if marks > 90 and marks <= 100:\n",
    "    print (\"Your Grade: A\")\n",
    "elif marks > 80 and marks <= 90:\n",
    "    print (\"Your Grade: B\")\n",
    "elif marks > 70 and marks <= 80:\n",
    "    print (\"Your Grade: C\")\n",
    "elif marks > 60 and marks <= 70:\n",
    "    print (\"Your Grade: D\")\n",
    "elif marks > 50 and marks <= 60:\n",
    "    print (\"Your Grade: E\")\n",
    "elif marks >= 35 and marks <= 50:\n",
    "    print (\"Your Grade: F\")\n",
    "elif marks >=0 and marks < 35:\n",
    "    print (\"You Failed the Exam\")\n",
    "else: \n",
    "    print (\"Enter marks out off 100\")"
   ]
  },
  {
   "cell_type": "code",
   "execution_count": 27,
   "metadata": {},
   "outputs": [
    {
     "name": "stdout",
     "output_type": "stream",
     "text": [
      "Enter your marks: 1000\n",
      "Enter marks out off 100\n"
     ]
    }
   ],
   "source": [
    "# Report Card\n",
    "marks = int(input(\"Enter your marks: \"))\n",
    "if marks > 90 and marks <= 100:\n",
    "    print (\"Your Grade: A\")\n",
    "elif marks > 80 and marks <= 90:\n",
    "    print (\"Your Grade: B\")\n",
    "elif marks > 70 and marks <= 80:\n",
    "    print (\"Your Grade: C\")\n",
    "elif marks > 60 and marks <= 70:\n",
    "    print (\"Your Grade: D\")\n",
    "elif marks > 50 and marks <= 60:\n",
    "    print (\"Your Grade: E\")\n",
    "elif marks >= 35 and marks <= 50:\n",
    "    print (\"Your Grade: F\")\n",
    "elif marks >=0 and marks < 35:\n",
    "    print (\"You Failed the Exam\")\n",
    "else: \n",
    "    print (\"Enter marks out off 100\")"
   ]
  }
 ],
 "metadata": {
  "kernelspec": {
   "display_name": "Python 3",
   "language": "python",
   "name": "python3"
  },
  "language_info": {
   "codemirror_mode": {
    "name": "ipython",
    "version": 3
   },
   "file_extension": ".py",
   "mimetype": "text/x-python",
   "name": "python",
   "nbconvert_exporter": "python",
   "pygments_lexer": "ipython3",
   "version": "3.8.5"
  }
 },
 "nbformat": 4,
 "nbformat_minor": 4
}
